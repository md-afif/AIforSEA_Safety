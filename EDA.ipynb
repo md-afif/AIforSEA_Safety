{
 "cells": [
  {
   "cell_type": "code",
   "execution_count": 1,
   "metadata": {},
   "outputs": [],
   "source": [
    "import numpy as np\n",
    "import pandas as pd\n",
    "import matplotlib.pyplot as plt\n",
    "import seaborn as sns\n",
    "\n",
    "import os"
   ]
  },
  {
   "cell_type": "code",
   "execution_count": 2,
   "metadata": {
    "scrolled": true
   },
   "outputs": [
    {
     "name": "stdout",
     "output_type": "stream",
     "text": [
      "/Users/itn.muhammad.afif/Documents/notebooks/data/safety/features/part-00001-e6120af0-10c2-4248-97c4-81baf4304e5c-c000.csv\n",
      "(1613558, 11)\n",
      "/Users/itn.muhammad.afif/Documents/notebooks/data/safety/features/part-00000-e6120af0-10c2-4248-97c4-81baf4304e5c-c000.csv\n",
      "(3227112, 11)\n",
      "/Users/itn.muhammad.afif/Documents/notebooks/data/safety/features/part-00003-e6120af0-10c2-4248-97c4-81baf4304e5c-c000.csv\n",
      "(4840665, 11)\n",
      "/Users/itn.muhammad.afif/Documents/notebooks/data/safety/features/part-00002-e6120af0-10c2-4248-97c4-81baf4304e5c-c000.csv\n",
      "(6454220, 11)\n",
      "/Users/itn.muhammad.afif/Documents/notebooks/data/safety/features/part-00005-e6120af0-10c2-4248-97c4-81baf4304e5c-c000.csv\n",
      "(8067771, 11)\n",
      "/Users/itn.muhammad.afif/Documents/notebooks/data/safety/features/part-00009-e6120af0-10c2-4248-97c4-81baf4304e5c-c000.csv\n",
      "(9681333, 11)\n",
      "/Users/itn.muhammad.afif/Documents/notebooks/data/safety/features/part-00004-e6120af0-10c2-4248-97c4-81baf4304e5c-c000.csv\n",
      "(11294892, 11)\n",
      "/Users/itn.muhammad.afif/Documents/notebooks/data/safety/features/part-00008-e6120af0-10c2-4248-97c4-81baf4304e5c-c000.csv\n",
      "(12908452, 11)\n",
      "/Users/itn.muhammad.afif/Documents/notebooks/data/safety/features/part-00007-e6120af0-10c2-4248-97c4-81baf4304e5c-c000.csv\n",
      "(14522008, 11)\n",
      "/Users/itn.muhammad.afif/Documents/notebooks/data/safety/features/part-00006-e6120af0-10c2-4248-97c4-81baf4304e5c-c000.csv\n",
      "(16135561, 11)\n"
     ]
    }
   ],
   "source": [
    "# Reading and merging all csv files into one dataframe\n",
    "\n",
    "DATA_DIR = '../data/safety/features'\n",
    "\n",
    "colnames = ['bookingID', 'Accuracy', 'Bearing', 'acceleration_x',\n",
    "             'acceleration_y', 'acceleration_z', 'gyro_x', 'gyro_y',\n",
    "             'gyro_z', 'second', 'Speed']\n",
    "raw_df = pd.DataFrame(columns=colnames)\n",
    "\n",
    "for filename in os.listdir(DATA_DIR):\n",
    "    if filename !=  '.DS_Store':\n",
    "        print(os.path.join(os.getcwd(), DATA_DIR, filename))\n",
    "        new_df = pd.read_csv(os.path.join(os.getcwd(), DATA_DIR, filename))\n",
    "        raw_df = pd.concat([raw_df, new_df], axis=0, ignore_index=True)\n",
    "        print(raw_df.shape)"
   ]
  },
  {
   "cell_type": "code",
   "execution_count": 3,
   "metadata": {},
   "outputs": [
    {
     "data": {
      "text/html": [
       "<div>\n",
       "<style scoped>\n",
       "    .dataframe tbody tr th:only-of-type {\n",
       "        vertical-align: middle;\n",
       "    }\n",
       "\n",
       "    .dataframe tbody tr th {\n",
       "        vertical-align: top;\n",
       "    }\n",
       "\n",
       "    .dataframe thead th {\n",
       "        text-align: right;\n",
       "    }\n",
       "</style>\n",
       "<table border=\"1\" class=\"dataframe\">\n",
       "  <thead>\n",
       "    <tr style=\"text-align: right;\">\n",
       "      <th></th>\n",
       "      <th>bookingID</th>\n",
       "      <th>label</th>\n",
       "    </tr>\n",
       "  </thead>\n",
       "  <tbody>\n",
       "    <tr>\n",
       "      <td>0</td>\n",
       "      <td>111669149733</td>\n",
       "      <td>0</td>\n",
       "    </tr>\n",
       "    <tr>\n",
       "      <td>1</td>\n",
       "      <td>335007449205</td>\n",
       "      <td>1</td>\n",
       "    </tr>\n",
       "    <tr>\n",
       "      <td>2</td>\n",
       "      <td>171798691856</td>\n",
       "      <td>0</td>\n",
       "    </tr>\n",
       "    <tr>\n",
       "      <td>3</td>\n",
       "      <td>1520418422900</td>\n",
       "      <td>0</td>\n",
       "    </tr>\n",
       "    <tr>\n",
       "      <td>4</td>\n",
       "      <td>798863917116</td>\n",
       "      <td>0</td>\n",
       "    </tr>\n",
       "  </tbody>\n",
       "</table>\n",
       "</div>"
      ],
      "text/plain": [
       "       bookingID  label\n",
       "0   111669149733      0\n",
       "1   335007449205      1\n",
       "2   171798691856      0\n",
       "3  1520418422900      0\n",
       "4   798863917116      0"
      ]
     },
     "execution_count": 3,
     "metadata": {},
     "output_type": "execute_result"
    }
   ],
   "source": [
    "# Reading in labels csv\n",
    "\n",
    "LABEL_DIR = os.path.join(os.getcwd(), 'data/safety/labels', \n",
    "                         'part-00000-e9445087-aa0a-433b-a7f6-7f4c19d78ad6-c000.csv')\n",
    "\n",
    "label_df = pd.read_csv(LABEL_DIR)\n",
    "label_df.head()"
   ]
  },
  {
   "cell_type": "code",
   "execution_count": 4,
   "metadata": {},
   "outputs": [],
   "source": [
    "# Checking and dropping the 18 duplicate bookingIDs \n",
    "\n",
    "label_counts = np.unique(label_df['bookingID'].values, return_counts=True)\n",
    "label_counts = pd.DataFrame({'bookingID' : label_counts[0], \n",
    "                             'counts' : label_counts[1]})\n",
    "\n",
    "dup = label_counts[label_counts['counts'] > 1]\n",
    "\n",
    "dup_id = dup['bookingID'].values\n",
    "\n",
    "# bookingIDs are labelled both 0 and 1, drop these IDs since we have sufficient data\n",
    "\n",
    "for b in dup_id:\n",
    "    idx1 = label_df[label_df['bookingID'] == b].index\n",
    "    idx2 = raw_df[raw_df['bookingID'] == b].index\n",
    "\n",
    "    label_df = label_df.drop(idx1, axis=0)\n",
    "    raw_df = raw_df.drop(idx2, axis=0)\n",
    "    \n",
    "df = pd.merge(raw_df, label_df)"
   ]
  },
  {
   "cell_type": "code",
   "execution_count": 5,
   "metadata": {},
   "outputs": [],
   "source": [
    "# Dropping inaccurate readings \n",
    "# i.e. rows with accuracy > 30 and speed < 0\n",
    "\n",
    "df = df.loc[(df['Accuracy'] <= 30) & (df['Speed'] >= 0)]"
   ]
  },
  {
   "cell_type": "markdown",
   "metadata": {},
   "source": [
    "### Feature Engineering\n",
    "\n",
    "Adding additional columns \n",
    "1. Distance = 'Speed' * 'second' \n",
    "2. Acceleration = sqrt('acceleration_x' ** 2, 'acceleration_y' ** 2, 'acceleration_z' ** 2) \n",
    "3. gyro_pc (magnitude) = PC1 of PCA applied on gyro_x, gyro_y, gyro_z\n",
    "4. Speed_diff = per second difference in speed for each bookingID\n",
    "5. Bearing_diff = per second difference in bearing for each bookingID"
   ]
  },
  {
   "cell_type": "code",
   "execution_count": 6,
   "metadata": {},
   "outputs": [
    {
     "data": {
      "text/plain": [
       "array([0.75386447, 0.12894376, 0.11719177])"
      ]
     },
     "execution_count": 6,
     "metadata": {},
     "output_type": "execute_result"
    }
   ],
   "source": [
    "df_add = df.copy(deep=True).sort_values(by=['bookingID', 'second']).reset_index(drop=True)\n",
    "\n",
    "# Applying PCA to gyro coordinates\n",
    "\n",
    "from sklearn.decomposition import PCA\n",
    "\n",
    "gyro_cols = ['gyro_x', 'gyro_y', 'gyro_z']\n",
    "gyro_coord = df_add[gyro_cols]\n",
    "pca = PCA()\n",
    "\n",
    "pca.fit(gyro_coord)\n",
    "pca.explained_variance_ratio_"
   ]
  },
  {
   "cell_type": "code",
   "execution_count": 7,
   "metadata": {},
   "outputs": [
    {
     "data": {
      "text/html": [
       "<div>\n",
       "<style scoped>\n",
       "    .dataframe tbody tr th:only-of-type {\n",
       "        vertical-align: middle;\n",
       "    }\n",
       "\n",
       "    .dataframe tbody tr th {\n",
       "        vertical-align: top;\n",
       "    }\n",
       "\n",
       "    .dataframe thead th {\n",
       "        text-align: right;\n",
       "    }\n",
       "</style>\n",
       "<table border=\"1\" class=\"dataframe\">\n",
       "  <thead>\n",
       "    <tr style=\"text-align: right;\">\n",
       "      <th></th>\n",
       "      <th>bookingID</th>\n",
       "      <th>Accuracy</th>\n",
       "      <th>Bearing</th>\n",
       "      <th>acceleration_x</th>\n",
       "      <th>acceleration_y</th>\n",
       "      <th>acceleration_z</th>\n",
       "      <th>gyro_x</th>\n",
       "      <th>gyro_y</th>\n",
       "      <th>gyro_z</th>\n",
       "      <th>second</th>\n",
       "      <th>Speed</th>\n",
       "      <th>label</th>\n",
       "      <th>gyro_pc</th>\n",
       "    </tr>\n",
       "  </thead>\n",
       "  <tbody>\n",
       "    <tr>\n",
       "      <td>0</td>\n",
       "      <td>0</td>\n",
       "      <td>12.0</td>\n",
       "      <td>143.298294</td>\n",
       "      <td>0.818112</td>\n",
       "      <td>-9.941461</td>\n",
       "      <td>-2.014999</td>\n",
       "      <td>-0.016245</td>\n",
       "      <td>-0.094040</td>\n",
       "      <td>0.070732</td>\n",
       "      <td>0.0</td>\n",
       "      <td>3.442991</td>\n",
       "      <td>0</td>\n",
       "      <td>-0.089042</td>\n",
       "    </tr>\n",
       "    <tr>\n",
       "      <td>1</td>\n",
       "      <td>0</td>\n",
       "      <td>8.0</td>\n",
       "      <td>143.298294</td>\n",
       "      <td>0.546405</td>\n",
       "      <td>-9.835590</td>\n",
       "      <td>-2.038925</td>\n",
       "      <td>-0.047092</td>\n",
       "      <td>-0.078874</td>\n",
       "      <td>0.043187</td>\n",
       "      <td>1.0</td>\n",
       "      <td>0.228454</td>\n",
       "      <td>0</td>\n",
       "      <td>-0.076595</td>\n",
       "    </tr>\n",
       "    <tr>\n",
       "      <td>2</td>\n",
       "      <td>0</td>\n",
       "      <td>8.0</td>\n",
       "      <td>143.298294</td>\n",
       "      <td>-1.706207</td>\n",
       "      <td>-9.270792</td>\n",
       "      <td>-1.209448</td>\n",
       "      <td>-0.028965</td>\n",
       "      <td>-0.032652</td>\n",
       "      <td>0.015390</td>\n",
       "      <td>2.0</td>\n",
       "      <td>0.228454</td>\n",
       "      <td>0</td>\n",
       "      <td>-0.032230</td>\n",
       "    </tr>\n",
       "    <tr>\n",
       "      <td>3</td>\n",
       "      <td>0</td>\n",
       "      <td>8.0</td>\n",
       "      <td>143.298294</td>\n",
       "      <td>-1.416705</td>\n",
       "      <td>-9.548032</td>\n",
       "      <td>-1.860977</td>\n",
       "      <td>-0.022413</td>\n",
       "      <td>0.005049</td>\n",
       "      <td>-0.025753</td>\n",
       "      <td>3.0</td>\n",
       "      <td>0.228454</td>\n",
       "      <td>0</td>\n",
       "      <td>0.002411</td>\n",
       "    </tr>\n",
       "    <tr>\n",
       "      <td>4</td>\n",
       "      <td>0</td>\n",
       "      <td>8.0</td>\n",
       "      <td>143.298294</td>\n",
       "      <td>-0.598145</td>\n",
       "      <td>-9.853534</td>\n",
       "      <td>-1.378574</td>\n",
       "      <td>-0.014297</td>\n",
       "      <td>-0.046206</td>\n",
       "      <td>0.021902</td>\n",
       "      <td>4.0</td>\n",
       "      <td>0.228454</td>\n",
       "      <td>0</td>\n",
       "      <td>-0.044964</td>\n",
       "    </tr>\n",
       "  </tbody>\n",
       "</table>\n",
       "</div>"
      ],
      "text/plain": [
       "  bookingID  Accuracy     Bearing  acceleration_x  acceleration_y  \\\n",
       "0         0      12.0  143.298294        0.818112       -9.941461   \n",
       "1         0       8.0  143.298294        0.546405       -9.835590   \n",
       "2         0       8.0  143.298294       -1.706207       -9.270792   \n",
       "3         0       8.0  143.298294       -1.416705       -9.548032   \n",
       "4         0       8.0  143.298294       -0.598145       -9.853534   \n",
       "\n",
       "   acceleration_z    gyro_x    gyro_y    gyro_z  second     Speed  label  \\\n",
       "0       -2.014999 -0.016245 -0.094040  0.070732     0.0  3.442991      0   \n",
       "1       -2.038925 -0.047092 -0.078874  0.043187     1.0  0.228454      0   \n",
       "2       -1.209448 -0.028965 -0.032652  0.015390     2.0  0.228454      0   \n",
       "3       -1.860977 -0.022413  0.005049 -0.025753     3.0  0.228454      0   \n",
       "4       -1.378574 -0.014297 -0.046206  0.021902     4.0  0.228454      0   \n",
       "\n",
       "    gyro_pc  \n",
       "0 -0.089042  \n",
       "1 -0.076595  \n",
       "2 -0.032230  \n",
       "3  0.002411  \n",
       "4 -0.044964  "
      ]
     },
     "execution_count": 7,
     "metadata": {},
     "output_type": "execute_result"
    }
   ],
   "source": [
    "# Since first PC accounts for > 70% of variance, we only keep 1 PC to explain gyro\n",
    "\n",
    "df_add['gyro_pc'] = pca.transform(df_add[gyro_cols])[:, 0]\n",
    "df_add.head()"
   ]
  },
  {
   "cell_type": "code",
   "execution_count": 8,
   "metadata": {},
   "outputs": [],
   "source": [
    "# Adding distance, acceleration and magnitude columns\n",
    "\n",
    "df_add['distance'] = df_add['Speed'] * df_add['second']\n",
    "df_add['acceleration'] = np.sqrt(np.power(df_add['acceleration_x'], 2) + \n",
    "                                 np.power(df_add['acceleration_y'], 2) + \n",
    "                                 np.power(df_add['acceleration_z'], 2))"
   ]
  },
  {
   "cell_type": "code",
   "execution_count": 9,
   "metadata": {},
   "outputs": [],
   "source": [
    "# Function to calculate difference in speed per second\n",
    "def calc_speed_diff(x):\n",
    "    return x['Speed'].diff()\n",
    "\n",
    "# Function to calculate difference in bearing per second\n",
    "def calc_bearing_diff(x):\n",
    "    return x['Bearing'].diff()\n",
    "\n",
    "# sub_df is a dataframe containing differences in speed and bearing\n",
    "# values per second\n",
    "# Large change in speed == sudden speeding/braking\n",
    "# Large change in bearing == sudden change in direction/lane change\n",
    "\n",
    "df_add['speed_diff'] = df_add.groupby('bookingID').apply(calc_speed_diff).fillna(method=\"backfill\").values\n",
    "df_add['bearing_diff'] = df_add.groupby('bookingID').apply(calc_bearing_diff).fillna(method=\"backfill\").values"
   ]
  },
  {
   "cell_type": "code",
   "execution_count": 10,
   "metadata": {},
   "outputs": [
    {
     "data": {
      "text/html": [
       "<div>\n",
       "<style scoped>\n",
       "    .dataframe tbody tr th:only-of-type {\n",
       "        vertical-align: middle;\n",
       "    }\n",
       "\n",
       "    .dataframe tbody tr th {\n",
       "        vertical-align: top;\n",
       "    }\n",
       "\n",
       "    .dataframe thead th {\n",
       "        text-align: right;\n",
       "    }\n",
       "</style>\n",
       "<table border=\"1\" class=\"dataframe\">\n",
       "  <thead>\n",
       "    <tr style=\"text-align: right;\">\n",
       "      <th></th>\n",
       "      <th>bookingID</th>\n",
       "      <th>Accuracy</th>\n",
       "      <th>Bearing</th>\n",
       "      <th>acceleration_x</th>\n",
       "      <th>acceleration_y</th>\n",
       "      <th>acceleration_z</th>\n",
       "      <th>gyro_x</th>\n",
       "      <th>gyro_y</th>\n",
       "      <th>gyro_z</th>\n",
       "      <th>second</th>\n",
       "      <th>Speed</th>\n",
       "      <th>label</th>\n",
       "      <th>gyro_pc</th>\n",
       "      <th>distance</th>\n",
       "      <th>acceleration</th>\n",
       "      <th>speed_diff</th>\n",
       "      <th>bearing_diff</th>\n",
       "    </tr>\n",
       "  </thead>\n",
       "  <tbody>\n",
       "    <tr>\n",
       "      <td>0</td>\n",
       "      <td>0</td>\n",
       "      <td>12.0</td>\n",
       "      <td>143.298294</td>\n",
       "      <td>0.818112</td>\n",
       "      <td>-9.941461</td>\n",
       "      <td>-2.014999</td>\n",
       "      <td>-0.016245</td>\n",
       "      <td>-0.094040</td>\n",
       "      <td>0.070732</td>\n",
       "      <td>0.0</td>\n",
       "      <td>3.442991</td>\n",
       "      <td>0</td>\n",
       "      <td>-0.089042</td>\n",
       "      <td>0.000000</td>\n",
       "      <td>10.176551</td>\n",
       "      <td>-3.214536</td>\n",
       "      <td>0.0</td>\n",
       "    </tr>\n",
       "    <tr>\n",
       "      <td>1</td>\n",
       "      <td>0</td>\n",
       "      <td>8.0</td>\n",
       "      <td>143.298294</td>\n",
       "      <td>0.546405</td>\n",
       "      <td>-9.835590</td>\n",
       "      <td>-2.038925</td>\n",
       "      <td>-0.047092</td>\n",
       "      <td>-0.078874</td>\n",
       "      <td>0.043187</td>\n",
       "      <td>1.0</td>\n",
       "      <td>0.228454</td>\n",
       "      <td>0</td>\n",
       "      <td>-0.076595</td>\n",
       "      <td>0.228454</td>\n",
       "      <td>10.059553</td>\n",
       "      <td>-3.214536</td>\n",
       "      <td>0.0</td>\n",
       "    </tr>\n",
       "    <tr>\n",
       "      <td>2</td>\n",
       "      <td>0</td>\n",
       "      <td>8.0</td>\n",
       "      <td>143.298294</td>\n",
       "      <td>-1.706207</td>\n",
       "      <td>-9.270792</td>\n",
       "      <td>-1.209448</td>\n",
       "      <td>-0.028965</td>\n",
       "      <td>-0.032652</td>\n",
       "      <td>0.015390</td>\n",
       "      <td>2.0</td>\n",
       "      <td>0.228454</td>\n",
       "      <td>0</td>\n",
       "      <td>-0.032230</td>\n",
       "      <td>0.456909</td>\n",
       "      <td>9.503762</td>\n",
       "      <td>0.000000</td>\n",
       "      <td>0.0</td>\n",
       "    </tr>\n",
       "    <tr>\n",
       "      <td>3</td>\n",
       "      <td>0</td>\n",
       "      <td>8.0</td>\n",
       "      <td>143.298294</td>\n",
       "      <td>-1.416705</td>\n",
       "      <td>-9.548032</td>\n",
       "      <td>-1.860977</td>\n",
       "      <td>-0.022413</td>\n",
       "      <td>0.005049</td>\n",
       "      <td>-0.025753</td>\n",
       "      <td>3.0</td>\n",
       "      <td>0.228454</td>\n",
       "      <td>0</td>\n",
       "      <td>0.002411</td>\n",
       "      <td>0.685363</td>\n",
       "      <td>9.830320</td>\n",
       "      <td>0.000000</td>\n",
       "      <td>0.0</td>\n",
       "    </tr>\n",
       "    <tr>\n",
       "      <td>4</td>\n",
       "      <td>0</td>\n",
       "      <td>8.0</td>\n",
       "      <td>143.298294</td>\n",
       "      <td>-0.598145</td>\n",
       "      <td>-9.853534</td>\n",
       "      <td>-1.378574</td>\n",
       "      <td>-0.014297</td>\n",
       "      <td>-0.046206</td>\n",
       "      <td>0.021902</td>\n",
       "      <td>4.0</td>\n",
       "      <td>0.228454</td>\n",
       "      <td>0</td>\n",
       "      <td>-0.044964</td>\n",
       "      <td>0.913818</td>\n",
       "      <td>9.967466</td>\n",
       "      <td>0.000000</td>\n",
       "      <td>0.0</td>\n",
       "    </tr>\n",
       "    <tr>\n",
       "      <td>5</td>\n",
       "      <td>0</td>\n",
       "      <td>8.0</td>\n",
       "      <td>143.298294</td>\n",
       "      <td>-0.608313</td>\n",
       "      <td>-9.539658</td>\n",
       "      <td>-1.794583</td>\n",
       "      <td>-0.007538</td>\n",
       "      <td>-0.023838</td>\n",
       "      <td>0.018068</td>\n",
       "      <td>5.0</td>\n",
       "      <td>0.228454</td>\n",
       "      <td>0</td>\n",
       "      <td>-0.022816</td>\n",
       "      <td>1.142272</td>\n",
       "      <td>9.726029</td>\n",
       "      <td>0.000000</td>\n",
       "      <td>0.0</td>\n",
       "    </tr>\n",
       "    <tr>\n",
       "      <td>6</td>\n",
       "      <td>0</td>\n",
       "      <td>8.0</td>\n",
       "      <td>143.298294</td>\n",
       "      <td>-0.867758</td>\n",
       "      <td>-9.698615</td>\n",
       "      <td>-1.615439</td>\n",
       "      <td>0.022728</td>\n",
       "      <td>-0.012178</td>\n",
       "      <td>0.005982</td>\n",
       "      <td>6.0</td>\n",
       "      <td>0.228454</td>\n",
       "      <td>0</td>\n",
       "      <td>-0.011493</td>\n",
       "      <td>1.370727</td>\n",
       "      <td>9.870449</td>\n",
       "      <td>0.000000</td>\n",
       "      <td>0.0</td>\n",
       "    </tr>\n",
       "    <tr>\n",
       "      <td>7</td>\n",
       "      <td>0</td>\n",
       "      <td>8.0</td>\n",
       "      <td>143.298294</td>\n",
       "      <td>-1.050790</td>\n",
       "      <td>-9.745270</td>\n",
       "      <td>-1.411771</td>\n",
       "      <td>0.027603</td>\n",
       "      <td>0.001841</td>\n",
       "      <td>0.000904</td>\n",
       "      <td>7.0</td>\n",
       "      <td>0.228454</td>\n",
       "      <td>0</td>\n",
       "      <td>0.002201</td>\n",
       "      <td>1.599181</td>\n",
       "      <td>9.902906</td>\n",
       "      <td>0.000000</td>\n",
       "      <td>0.0</td>\n",
       "    </tr>\n",
       "    <tr>\n",
       "      <td>8</td>\n",
       "      <td>0</td>\n",
       "      <td>8.0</td>\n",
       "      <td>143.298294</td>\n",
       "      <td>-0.721213</td>\n",
       "      <td>-9.960004</td>\n",
       "      <td>-1.202271</td>\n",
       "      <td>0.001864</td>\n",
       "      <td>-0.007702</td>\n",
       "      <td>0.014018</td>\n",
       "      <td>8.0</td>\n",
       "      <td>0.228454</td>\n",
       "      <td>0</td>\n",
       "      <td>-0.006844</td>\n",
       "      <td>1.827636</td>\n",
       "      <td>10.058194</td>\n",
       "      <td>0.000000</td>\n",
       "      <td>0.0</td>\n",
       "    </tr>\n",
       "    <tr>\n",
       "      <td>9</td>\n",
       "      <td>0</td>\n",
       "      <td>8.0</td>\n",
       "      <td>143.298294</td>\n",
       "      <td>-0.346924</td>\n",
       "      <td>-9.532629</td>\n",
       "      <td>-1.204663</td>\n",
       "      <td>0.014962</td>\n",
       "      <td>-0.050033</td>\n",
       "      <td>0.025118</td>\n",
       "      <td>9.0</td>\n",
       "      <td>0.228454</td>\n",
       "      <td>0</td>\n",
       "      <td>-0.047958</td>\n",
       "      <td>2.056090</td>\n",
       "      <td>9.614707</td>\n",
       "      <td>0.000000</td>\n",
       "      <td>0.0</td>\n",
       "    </tr>\n",
       "  </tbody>\n",
       "</table>\n",
       "</div>"
      ],
      "text/plain": [
       "  bookingID  Accuracy     Bearing  acceleration_x  acceleration_y  \\\n",
       "0         0      12.0  143.298294        0.818112       -9.941461   \n",
       "1         0       8.0  143.298294        0.546405       -9.835590   \n",
       "2         0       8.0  143.298294       -1.706207       -9.270792   \n",
       "3         0       8.0  143.298294       -1.416705       -9.548032   \n",
       "4         0       8.0  143.298294       -0.598145       -9.853534   \n",
       "5         0       8.0  143.298294       -0.608313       -9.539658   \n",
       "6         0       8.0  143.298294       -0.867758       -9.698615   \n",
       "7         0       8.0  143.298294       -1.050790       -9.745270   \n",
       "8         0       8.0  143.298294       -0.721213       -9.960004   \n",
       "9         0       8.0  143.298294       -0.346924       -9.532629   \n",
       "\n",
       "   acceleration_z    gyro_x    gyro_y    gyro_z  second     Speed  label  \\\n",
       "0       -2.014999 -0.016245 -0.094040  0.070732     0.0  3.442991      0   \n",
       "1       -2.038925 -0.047092 -0.078874  0.043187     1.0  0.228454      0   \n",
       "2       -1.209448 -0.028965 -0.032652  0.015390     2.0  0.228454      0   \n",
       "3       -1.860977 -0.022413  0.005049 -0.025753     3.0  0.228454      0   \n",
       "4       -1.378574 -0.014297 -0.046206  0.021902     4.0  0.228454      0   \n",
       "5       -1.794583 -0.007538 -0.023838  0.018068     5.0  0.228454      0   \n",
       "6       -1.615439  0.022728 -0.012178  0.005982     6.0  0.228454      0   \n",
       "7       -1.411771  0.027603  0.001841  0.000904     7.0  0.228454      0   \n",
       "8       -1.202271  0.001864 -0.007702  0.014018     8.0  0.228454      0   \n",
       "9       -1.204663  0.014962 -0.050033  0.025118     9.0  0.228454      0   \n",
       "\n",
       "    gyro_pc  distance  acceleration  speed_diff  bearing_diff  \n",
       "0 -0.089042  0.000000     10.176551   -3.214536           0.0  \n",
       "1 -0.076595  0.228454     10.059553   -3.214536           0.0  \n",
       "2 -0.032230  0.456909      9.503762    0.000000           0.0  \n",
       "3  0.002411  0.685363      9.830320    0.000000           0.0  \n",
       "4 -0.044964  0.913818      9.967466    0.000000           0.0  \n",
       "5 -0.022816  1.142272      9.726029    0.000000           0.0  \n",
       "6 -0.011493  1.370727      9.870449    0.000000           0.0  \n",
       "7  0.002201  1.599181      9.902906    0.000000           0.0  \n",
       "8 -0.006844  1.827636     10.058194    0.000000           0.0  \n",
       "9 -0.047958  2.056090      9.614707    0.000000           0.0  "
      ]
     },
     "execution_count": 10,
     "metadata": {},
     "output_type": "execute_result"
    }
   ],
   "source": [
    "df_add.head(n=10)"
   ]
  },
  {
   "cell_type": "markdown",
   "metadata": {},
   "source": [
    "### Creating df_sub1: aggregation of variables \n",
    "Taking mean, median, standard deviation, spread of acceleration, gyro_pc, speed and second"
   ]
  },
  {
   "cell_type": "code",
   "execution_count": null,
   "metadata": {},
   "outputs": [],
   "source": [
    "def spread(x):\n",
    "    return x.max() - x.min()\n",
    "\n",
    "df_sub1 = df_add.groupby('bookingID')['acceleration', 'gyro_pc', 'Speed', 'second'].aggregate([\n",
    "    'mean', 'median', 'std', spread\n",
    "])\n",
    "\n",
    "df_sub1.columns = [\"_\".join(x) for x in df_sub1.columns.ravel()]\n",
    "df_sub1.columns = [col.lower() for col in df_sub1.columns]\n",
    "df_sub1 = df_sub1.fillna(0)"
   ]
  },
  {
   "cell_type": "code",
   "execution_count": null,
   "metadata": {},
   "outputs": [],
   "source": [
    "df_sub1.head(n=10)"
   ]
  },
  {
   "cell_type": "markdown",
   "metadata": {},
   "source": [
    "### Creating df_sub2: detecting outlier values for speed, second, acceleration, gyro"
   ]
  },
  {
   "cell_type": "code",
   "execution_count": null,
   "metadata": {},
   "outputs": [],
   "source": [
    "print(df_add.columns)\n",
    "\n",
    "# Checking 75th percentile for speed and second\n",
    "# Checking 25th and 75th percentile for acceleration, gyro coordinates\n",
    "\n",
    "outlier_vals = {'Speed_75' : np.quantile(df_add['Speed'], 0.75),\n",
    "               'second_75' : np.quantile(df_add['second'], 0.75),\n",
    "               'acceleration_x_25' : np.quantile(df_add['acceleration_x'], 0.25), \n",
    "               'acceleration_y_25' : np.quantile(df_add['acceleration_y'], 0.25),\n",
    "               'acceleration_z_25' : np.quantile(df_add['acceleration_z'], 0.25),\n",
    "               'acceleration_x_75' : np.quantile(df_add['acceleration_x'], 0.75),\n",
    "               'acceleration_y_75' : np.quantile(df_add['acceleration_y'], 0.75),\n",
    "               'acceleration_z_75' : np.quantile(df_add['acceleration_z'], 0.75),\n",
    "               'gyro_x_25' : np.quantile(df_add['gyro_x'], 0.25),\n",
    "               'gyro_y_25' : np.quantile(df_add['gyro_y'], 0.25),\n",
    "               'gyro_z_25' : np.quantile(df_add['gyro_z'], 0.25),\n",
    "               'gyro_x_75' : np.quantile(df_add['gyro_x'], 0.75),\n",
    "               'gyro_y_75' : np.quantile(df_add['gyro_y'], 0.75),\n",
    "               'gyro_z_75' : np.quantile(df_add['gyro_z'], 0.75)}\n",
    "\n",
    "outlier_vals"
   ]
  },
  {
   "cell_type": "code",
   "execution_count": null,
   "metadata": {},
   "outputs": [],
   "source": [
    "def quantile_check(x, col, q):\n",
    "    val = outlier_vals['{}_{}'.format(col, q)]\n",
    "    \n",
    "    if q == 25:\n",
    "        return np.sum(x[col] < val)\n",
    "    elif q == 75:\n",
    "        return np.sum(x[col] > val)\n",
    "    \n",
    "\n",
    "df_sub2 = pd.DataFrame()\n",
    "    \n",
    "colnames = ['acceleration_x', 'acceleration_y', 'acceleration_z', \n",
    "           'gyro_x', 'gyro_y', 'gyro_z']\n",
    "\n",
    "df_sub2['over_Speed'] = df_add.groupby('bookingID').apply(quantile_check, col='Speed', q=75)\n",
    "df_sub2['over_second'] = df_add.groupby('bookingID').apply(quantile_check, col='second', q=75)\n",
    "\n",
    "for col in colnames:\n",
    "    print(col)\n",
    "    arr = df_add.groupby('bookingID').apply(quantile_check, col=col, \n",
    "                                             q=25).values + df_add.groupby('bookingID').apply(quantile_check, \n",
    "                                                                                              col=col, q=75).values\n",
    "    df_sub2['over_{}'.format(col)] = arr"
   ]
  },
  {
   "cell_type": "code",
   "execution_count": null,
   "metadata": {},
   "outputs": [],
   "source": [
    "df_add2 = pd.merge(df_sub1, df_sub2, on='bookingID')\n",
    "df_add2 = pd.merge(df_add2, label_df, on='bookingID')\n",
    "df_add2.columns = [col.lower() for col in df_add2.columns]"
   ]
  },
  {
   "cell_type": "markdown",
   "metadata": {},
   "source": [
    "### Creating df_sub3: sliding window + kmeans"
   ]
  },
  {
   "cell_type": "code",
   "execution_count": 126,
   "metadata": {},
   "outputs": [],
   "source": [
    "window_features = df_add[['bookingID', 'Speed', 'acceleration', 'gyro_pc']].groupby('bookingID')\n",
    "# ids = np.random.choice(window_features['bookingID'].unique(), size=20)\n",
    "# window_features2 = window_features[window_features['bookingID'].isin(ids)].groupby('bookingID')"
   ]
  },
  {
   "cell_type": "code",
   "execution_count": 127,
   "metadata": {
    "scrolled": true
   },
   "outputs": [
    {
     "name": "stdout",
     "output_type": "stream",
     "text": [
      "Start time: 2020-01-22 16:50:30.958301\n",
      "End time: 2020-01-22 16:54:43.687220\n",
      "Total time taken: 252 seconds\n"
     ]
    }
   ],
   "source": [
    "def sliding_window(df, step=8, overlap=4):\n",
    "    df = df.reset_index(drop=True)\n",
    "    start_idx = df.index.values[0]\n",
    "    end_idx = df.index.values[-1]\n",
    "        \n",
    "    booking_df = pd.DataFrame(columns=['Speed_mean', 'acceleration_mean', 'gyro_pc_mean', \n",
    "                                       'Speed_median', 'acceleration_median', 'gyro_pc_median', \n",
    "                                       'Speed_std', 'acceleration_std', 'gyro_pc_std'])    \n",
    "    \n",
    "    while start_idx <= (end_idx - step):\n",
    "        agg_vals = df.iloc[start_idx: start_idx + step, ].aggregate(['mean', 'median', 'std'])\n",
    "        agg_vals = agg_vals.unstack().to_frame().sort_index(level=1).T\n",
    "        agg_vals.columns = agg_vals.columns.map('_'.join)\n",
    "        \n",
    "        booking_df = pd.concat([booking_df, agg_vals], axis=0)\n",
    "        \n",
    "        start_idx += overlap\n",
    "\n",
    "    return booking_df\n",
    "    \n",
    "\n",
    "    \n",
    "import datetime\n",
    "start_time = datetime.datetime.now()\n",
    "print(\"Start time: {}\".format(start_time))\n",
    "\n",
    "window_features3 = window_features.rolling(8).agg(['mean', 'median', 'std']).dropna()[::4]\n",
    "\n",
    "end_time = datetime.datetime.now()\n",
    "print(\"End time: {}\".format(end_time))\n",
    "\n",
    "print(\"Total time taken: {} seconds\".format((end_time - start_time).seconds))"
   ]
  },
  {
   "cell_type": "code",
   "execution_count": 131,
   "metadata": {},
   "outputs": [],
   "source": [
    "window_features4 = window_features3.drop('bookingID', axis=1)\n",
    "window_features4.columns = ['_'.join(col) for col in window_features4.columns]"
   ]
  },
  {
   "cell_type": "code",
   "execution_count": 132,
   "metadata": {},
   "outputs": [
    {
     "data": {
      "text/html": [
       "<div>\n",
       "<style scoped>\n",
       "    .dataframe tbody tr th:only-of-type {\n",
       "        vertical-align: middle;\n",
       "    }\n",
       "\n",
       "    .dataframe tbody tr th {\n",
       "        vertical-align: top;\n",
       "    }\n",
       "\n",
       "    .dataframe thead th {\n",
       "        text-align: right;\n",
       "    }\n",
       "</style>\n",
       "<table border=\"1\" class=\"dataframe\">\n",
       "  <thead>\n",
       "    <tr style=\"text-align: right;\">\n",
       "      <th></th>\n",
       "      <th>Speed_mean</th>\n",
       "      <th>Speed_median</th>\n",
       "      <th>Speed_std</th>\n",
       "      <th>acceleration_mean</th>\n",
       "      <th>acceleration_median</th>\n",
       "      <th>acceleration_std</th>\n",
       "      <th>gyro_pc_mean</th>\n",
       "      <th>gyro_pc_median</th>\n",
       "      <th>gyro_pc_std</th>\n",
       "    </tr>\n",
       "  </thead>\n",
       "  <tbody>\n",
       "    <tr>\n",
       "      <td>count</td>\n",
       "      <td>3.877881e+06</td>\n",
       "      <td>3.877881e+06</td>\n",
       "      <td>3.877881e+06</td>\n",
       "      <td>3.877881e+06</td>\n",
       "      <td>3.877881e+06</td>\n",
       "      <td>3.877881e+06</td>\n",
       "      <td>3.877881e+06</td>\n",
       "      <td>3.877881e+06</td>\n",
       "      <td>3.877881e+06</td>\n",
       "    </tr>\n",
       "    <tr>\n",
       "      <td>mean</td>\n",
       "      <td>-1.365092e-14</td>\n",
       "      <td>-7.275459e-16</td>\n",
       "      <td>6.578162e-15</td>\n",
       "      <td>-2.779192e-15</td>\n",
       "      <td>3.467821e-16</td>\n",
       "      <td>-4.998799e-16</td>\n",
       "      <td>-6.379474e-16</td>\n",
       "      <td>-4.466214e-16</td>\n",
       "      <td>4.909099e-17</td>\n",
       "    </tr>\n",
       "    <tr>\n",
       "      <td>std</td>\n",
       "      <td>1.000000e+00</td>\n",
       "      <td>1.000000e+00</td>\n",
       "      <td>1.000000e+00</td>\n",
       "      <td>1.000000e+00</td>\n",
       "      <td>1.000000e+00</td>\n",
       "      <td>1.000000e+00</td>\n",
       "      <td>1.000000e+00</td>\n",
       "      <td>1.000000e+00</td>\n",
       "      <td>1.000000e+00</td>\n",
       "    </tr>\n",
       "    <tr>\n",
       "      <td>min</td>\n",
       "      <td>-1.152617e+00</td>\n",
       "      <td>-1.143184e+00</td>\n",
       "      <td>-9.523907e-01</td>\n",
       "      <td>-9.642417e+00</td>\n",
       "      <td>-9.728831e+00</td>\n",
       "      <td>-1.006587e+00</td>\n",
       "      <td>-7.941451e+01</td>\n",
       "      <td>-7.958804e+01</td>\n",
       "      <td>-4.085239e-01</td>\n",
       "    </tr>\n",
       "    <tr>\n",
       "      <td>25%</td>\n",
       "      <td>-9.522836e-01</td>\n",
       "      <td>-9.724224e-01</td>\n",
       "      <td>-7.265436e-01</td>\n",
       "      <td>-1.921331e-01</td>\n",
       "      <td>-1.870297e-01</td>\n",
       "      <td>-6.000002e-01</td>\n",
       "      <td>-6.518912e-02</td>\n",
       "      <td>-6.063059e-02</td>\n",
       "      <td>-3.200413e-01</td>\n",
       "    </tr>\n",
       "    <tr>\n",
       "      <td>50%</td>\n",
       "      <td>-1.798228e-01</td>\n",
       "      <td>-1.679168e-01</td>\n",
       "      <td>-3.079850e-01</td>\n",
       "      <td>-5.540043e-02</td>\n",
       "      <td>-4.741574e-02</td>\n",
       "      <td>-1.643632e-01</td>\n",
       "      <td>-6.647250e-06</td>\n",
       "      <td>-1.270189e-03</td>\n",
       "      <td>-1.642449e-01</td>\n",
       "    </tr>\n",
       "    <tr>\n",
       "      <td>75%</td>\n",
       "      <td>7.957034e-01</td>\n",
       "      <td>7.997348e-01</td>\n",
       "      <td>4.264326e-01</td>\n",
       "      <td>1.111327e-01</td>\n",
       "      <td>1.164941e-01</td>\n",
       "      <td>3.373348e-01</td>\n",
       "      <td>7.019385e-02</td>\n",
       "      <td>6.355228e-02</td>\n",
       "      <td>7.566038e-02</td>\n",
       "    </tr>\n",
       "    <tr>\n",
       "      <td>max</td>\n",
       "      <td>3.927706e+00</td>\n",
       "      <td>3.914888e+00</td>\n",
       "      <td>2.654098e+01</td>\n",
       "      <td>4.318909e+01</td>\n",
       "      <td>4.594969e+01</td>\n",
       "      <td>6.287460e+01</td>\n",
       "      <td>5.462168e+01</td>\n",
       "      <td>4.909628e+01</td>\n",
       "      <td>1.357444e+02</td>\n",
       "    </tr>\n",
       "  </tbody>\n",
       "</table>\n",
       "</div>"
      ],
      "text/plain": [
       "         Speed_mean  Speed_median     Speed_std  acceleration_mean  \\\n",
       "count  3.877881e+06  3.877881e+06  3.877881e+06       3.877881e+06   \n",
       "mean  -1.365092e-14 -7.275459e-16  6.578162e-15      -2.779192e-15   \n",
       "std    1.000000e+00  1.000000e+00  1.000000e+00       1.000000e+00   \n",
       "min   -1.152617e+00 -1.143184e+00 -9.523907e-01      -9.642417e+00   \n",
       "25%   -9.522836e-01 -9.724224e-01 -7.265436e-01      -1.921331e-01   \n",
       "50%   -1.798228e-01 -1.679168e-01 -3.079850e-01      -5.540043e-02   \n",
       "75%    7.957034e-01  7.997348e-01  4.264326e-01       1.111327e-01   \n",
       "max    3.927706e+00  3.914888e+00  2.654098e+01       4.318909e+01   \n",
       "\n",
       "       acceleration_median  acceleration_std  gyro_pc_mean  gyro_pc_median  \\\n",
       "count         3.877881e+06      3.877881e+06  3.877881e+06    3.877881e+06   \n",
       "mean          3.467821e-16     -4.998799e-16 -6.379474e-16   -4.466214e-16   \n",
       "std           1.000000e+00      1.000000e+00  1.000000e+00    1.000000e+00   \n",
       "min          -9.728831e+00     -1.006587e+00 -7.941451e+01   -7.958804e+01   \n",
       "25%          -1.870297e-01     -6.000002e-01 -6.518912e-02   -6.063059e-02   \n",
       "50%          -4.741574e-02     -1.643632e-01 -6.647250e-06   -1.270189e-03   \n",
       "75%           1.164941e-01      3.373348e-01  7.019385e-02    6.355228e-02   \n",
       "max           4.594969e+01      6.287460e+01  5.462168e+01    4.909628e+01   \n",
       "\n",
       "        gyro_pc_std  \n",
       "count  3.877881e+06  \n",
       "mean   4.909099e-17  \n",
       "std    1.000000e+00  \n",
       "min   -4.085239e-01  \n",
       "25%   -3.200413e-01  \n",
       "50%   -1.642449e-01  \n",
       "75%    7.566038e-02  \n",
       "max    1.357444e+02  "
      ]
     },
     "execution_count": 132,
     "metadata": {},
     "output_type": "execute_result"
    }
   ],
   "source": [
    "from sklearn.preprocessing import StandardScaler\n",
    "\n",
    "scaler = StandardScaler()\n",
    "window_features5 = pd.DataFrame(scaler.fit_transform(window_features4), columns=window_features4.columns)\n",
    "window_features5.describe()"
   ]
  },
  {
   "cell_type": "code",
   "execution_count": 109,
   "metadata": {},
   "outputs": [
    {
     "name": "stdout",
     "output_type": "stream",
     "text": [
      "1\n",
      "2\n",
      "3\n",
      "4\n",
      "5\n",
      "6\n",
      "7\n",
      "8\n",
      "9\n"
     ]
    }
   ],
   "source": [
    "from sklearn.cluster import KMeans \n",
    "from sklearn import metrics \n",
    "from scipy.spatial.distance import cdist\n",
    "\n",
    "distortions = [] \n",
    "inertias = [] \n",
    "mapping1 = {} \n",
    "mapping2 = {} \n",
    "K = range(1,10) \n",
    "  \n",
    "for k in K: \n",
    "    print(k)\n",
    "    \n",
    "    #Building and fitting the model \n",
    "    kmeanModel = KMeans(n_clusters=k)\n",
    "    kmeanModel.fit(window_features4)     \n",
    "      \n",
    "    distortions.append(sum(np.min(cdist(window_features4, kmeanModel.cluster_centers_, \n",
    "                      'euclidean'),axis=1)) / window_features4.shape[0]) \n",
    "    inertias.append(kmeanModel.inertia_) \n",
    "  \n",
    "    mapping1[k] = sum(np.min(cdist(window_features4, kmeanModel.cluster_centers_, \n",
    "                 'euclidean'),axis=1)) / window_features4.shape[0] \n",
    "    mapping2[k] = kmeanModel.inertia_ "
   ]
  },
  {
   "cell_type": "code",
   "execution_count": 110,
   "metadata": {},
   "outputs": [
    {
     "name": "stdout",
     "output_type": "stream",
     "text": [
      "1 : 2.0061110079726756\n",
      "2 : 1.5331354192256332\n",
      "3 : 1.494044346760681\n",
      "4 : 1.4852326035757575\n",
      "5 : 1.2627790764455793\n",
      "6 : 1.2497364645186906\n",
      "7 : 1.2244582530384456\n",
      "8 : 1.2115581605287848\n",
      "9 : 1.1149194318037847\n"
     ]
    }
   ],
   "source": [
    "for key,val in mapping1.items(): \n",
    "\tprint(str(key)+' : '+str(val)) \n"
   ]
  },
  {
   "cell_type": "code",
   "execution_count": 111,
   "metadata": {},
   "outputs": [
    {
     "data": {
      "image/png": "[encoded data removed]",
      "text/plain": [
       "<Figure size 432x288 with 1 Axes>"
      ]
     },
     "metadata": {
      "needs_background": "light"
     },
     "output_type": "display_data"
    }
   ],
   "source": [
    "plt.plot(K, distortions, 'bx-') \n",
    "plt.xlabel('Values of K') \n",
    "plt.ylabel('Distortion') \n",
    "plt.title('The Elbow Method using Distortion') \n",
    "plt.show() # Should keep 5 clusters"
   ]
  },
  {
   "cell_type": "code",
   "execution_count": 113,
   "metadata": {},
   "outputs": [
    {
     "data": {
      "image/png": "[encoded data removed]",
      "text/plain": [
       "<Figure size 432x288 with 1 Axes>"
      ]
     },
     "metadata": {
      "needs_background": "light"
     },
     "output_type": "display_data"
    }
   ],
   "source": [
    "plt.plot(K, inertias, 'bx-') \n",
    "plt.xlabel('Values of K') \n",
    "plt.ylabel('Inertia') \n",
    "plt.title('The Elbow Method using Inertia') \n",
    "plt.show() "
   ]
  },
  {
   "cell_type": "code",
   "execution_count": 133,
   "metadata": {},
   "outputs": [
    {
     "data": {
      "text/plain": [
       "KMeans(algorithm='auto', copy_x=True, init='k-means++', max_iter=300,\n",
       "       n_clusters=5, n_init=10, n_jobs=None, precompute_distances='auto',\n",
       "       random_state=None, tol=0.0001, verbose=0)"
      ]
     },
     "execution_count": 133,
     "metadata": {},
     "output_type": "execute_result"
    }
   ],
   "source": [
    "kmeans = KMeans(n_clusters=5)\n",
    "kmeans.fit(window_features5)"
   ]
  },
  {
   "cell_type": "code",
   "execution_count": 134,
   "metadata": {},
   "outputs": [
    {
     "data": {
      "text/plain": [
       "1    1461393\n",
       "5    1432435\n",
       "2     979924\n",
       "3       3826\n",
       "4        303\n",
       "Name: cluster, dtype: int64"
      ]
     },
     "execution_count": 134,
     "metadata": {},
     "output_type": "execute_result"
    }
   ],
   "source": [
    "window_features5['cluster'] = kmeans.predict(window_features5)\n",
    "window_features5['cluster'] += 1\n",
    "window_features5['cluster'].value_counts()"
   ]
  },
  {
   "cell_type": "code",
   "execution_count": 153,
   "metadata": {},
   "outputs": [
    {
     "data": {
      "text/plain": [
       "3877881"
      ]
     },
     "execution_count": 153,
     "metadata": {},
     "output_type": "execute_result"
    }
   ],
   "source": [
    "booking_ids = []\n",
    "\n",
    "for idx in window_features3.index:\n",
    "    booking_ids.append(idx[0])\n",
    "    \n",
    "len(booking_ids)"
   ]
  },
  {
   "cell_type": "code",
   "execution_count": 154,
   "metadata": {},
   "outputs": [],
   "source": [
    "window_features5['bookingID'] = booking_ids"
   ]
  },
  {
   "cell_type": "markdown",
   "metadata": {},
   "source": [
    "### Older (unused) pre-processing/aggregation"
   ]
  },
  {
   "cell_type": "code",
   "execution_count": null,
   "metadata": {},
   "outputs": [],
   "source": [
    "# df_add2 = df_add.groupby('bookingID').aggregate({'second' : ['min', 'mean', 'max', 'median', 'std', spread], \n",
    "#                                                  'Speed' : ['min', 'mean', 'max', 'median', 'std', spread], \n",
    "#                                                 'distance' : ['min', 'mean', 'max', 'median', 'std', spread],\n",
    "#                                                 'acceleration' : ['min', 'mean', 'max', 'median', 'std', spread],\n",
    "#                                                 'gyro_pc' : ['min', 'mean', 'max', 'median', 'std', spread],\n",
    "#                                                 'speed_diff' : ['min', 'mean', 'max', 'median', 'std', spread],\n",
    "#                                                 'bearing_diff' : ['min', 'mean', 'max', 'median', 'std', spread]})\n",
    "\n",
    "# df_add2.columns = [\"_\".join(x) for x in df_add2.columns.ravel()]\n",
    "# df_add2 = pd.merge(df_add2, label_df, on='bookingID').drop('bookingID', axis='columns')\n",
    "# df_add2.columns = [col.lower() for col in df_add2.columns]"
   ]
  },
  {
   "cell_type": "code",
   "execution_count": null,
   "metadata": {},
   "outputs": [],
   "source": [
    "df_add2.head(n=10)"
   ]
  },
  {
   "cell_type": "code",
   "execution_count": null,
   "metadata": {},
   "outputs": [],
   "source": [
    "# Checking for correlations within aggregated data\n",
    "# Particularly, check for correlations between different features \n",
    "# e.g. strong correlation between accuracy and speed etc\n",
    "\n",
    "corr_matrix = df_add2.corr()\n",
    "corr_matrix.where((corr_matrix > 0.5) & (corr_matrix != 1))"
   ]
  },
  {
   "cell_type": "code",
   "execution_count": null,
   "metadata": {},
   "outputs": [],
   "source": [
    "# def plot_corr_heatmap(df, vmax=1.0):\n",
    "#     corr_matrix = df.corr()\n",
    "    \n",
    "#     mask = np.zeros_like(corr_matrix, dtype=np.bool)\n",
    "#     mask[np.triu_indices_from(mask)] = True\n",
    "\n",
    "#     # Set up the matplotlib figure\n",
    "#     f, ax = plt.subplots(figsize=(11, 9))\n",
    "\n",
    "#     # Generate a custom diverging colormap\n",
    "#     cmap = sns.diverging_palette(220, 10, as_cmap=True)\n",
    "\n",
    "#     # Draw the heatmap with the mask and correct aspect ratio\n",
    "#     sns.heatmap(corr_matrix, mask=mask, cmap=cmap, vmax=vmax, \n",
    "#                 square=True, center=0, linewidths=.5)\n",
    "    \n",
    "# plot_corr_heatmap(df, vmax=0.6)"
   ]
  },
  {
   "cell_type": "code",
   "execution_count": null,
   "metadata": {},
   "outputs": [],
   "source": [
    "# sns.pairplot(df_add2, hue='label')"
   ]
  },
  {
   "cell_type": "markdown",
   "metadata": {},
   "source": [
    "### Generating CSV for use in modelling.ipynb"
   ]
  },
  {
   "cell_type": "code",
   "execution_count": null,
   "metadata": {},
   "outputs": [],
   "source": [
    "SAVE_DIR = os.path.join(os.getcwd(), 'data/safety/')\n",
    "\n",
    "df_add2.to_csv(SAVE_DIR + \"kfengtee.csv\", index=False)"
   ]
  }
 ],
 "metadata": {
  "kernelspec": {
   "display_name": "Python 3",
   "language": "python",
   "name": "python3"
  },
  "language_info": {
   "codemirror_mode": {
    "name": "ipython",
    "version": 3
   },
   "file_extension": ".py",
   "mimetype": "text/x-python",
   "name": "python",
   "nbconvert_exporter": "python",
   "pygments_lexer": "ipython3",
   "version": "3.7.4"
  }
 },
 "nbformat": 4,
 "nbformat_minor": 2
}
